{
 "cells": [
  {
   "cell_type": "markdown",
   "id": "9cf9d5b6",
   "metadata": {},
   "source": [
    "# Question No-23"
   ]
  },
  {
   "cell_type": "raw",
   "id": "qualified-devices",
   "metadata": {},
   "source": [
    "#1. Change this class so that the queue has a max size of 4. If a user tries to enqueue an item when there are already 4 items, raise a FullQueueError. (You will have to also create the FullQueueError class.\n",
    "\n",
    "\n",
    "\n",
    "#2 Create the dequeueMultiple(n) method which takes n as input and removes the first n elements from the queue, it should return an InsufficientElementsInQueueError if there are fewer than n elements in the queue.\n",
    "\n",
    "\n",
    "\n",
    "#3 Bonus: Add in support for the addition operator (+) between two queues such that queue1 + queue2 will yield a queue with the items from both queue1 and queue2. Keep in mind that there is a maximum queue size!"
   ]
  },
  {
   "cell_type": "code",
   "execution_count": 1,
   "id": "d903c912",
   "metadata": {},
   "outputs": [
    {
     "name": "stdout",
     "output_type": "stream",
     "text": [
      "[3, 4]\n"
     ]
    }
   ],
   "source": [
    "class EmptyQueueError(Exception):\n",
    "    pass\n",
    "\n",
    "class FullQueueError(Exception):\n",
    "    pass\n",
    "\n",
    "class InsufficientElementsInQueueError(Exception):\n",
    "    pass\n",
    "\n",
    "class Queue:\n",
    "    'a classic queue class'\n",
    "\n",
    "    def __init__(self, max_size=4):\n",
    "        'instantiates an empty list with a maximum size'\n",
    "        self.max_size = max_size\n",
    "        self.q = []\n",
    "\n",
    "    def isEmpty(self):\n",
    "        'returns True if queue is empty, False otherwise'\n",
    "        return len(self.q) == 0\n",
    "\n",
    "    def isFull(self):\n",
    "        'returns True if the queue is full, False otherwise'\n",
    "        return len(self.q) == self.max_size\n",
    "\n",
    "    def enqueue(self, item):\n",
    "        'insert item at rear of queue'\n",
    "        if self.isFull():\n",
    "            raise FullQueueError('enqueue to full queue')\n",
    "        return self.q.append(item)\n",
    "\n",
    "    def dequeue(self):\n",
    "        'remove and return item at front of queue'\n",
    "        if self.isEmpty():\n",
    "            raise EmptyQueueError('dequeue from empty queue')\n",
    "        return self.q.pop(0)\n",
    "\n",
    "    def dequeueMultiple(self, n):\n",
    "        'remove and return the first n elements from the queue'\n",
    "        if len(self.q) < n:\n",
    "            raise InsufficientElementsInQueueError('insufficient elements in the queue')\n",
    "        return [self.q.pop(0) for _ in range(n)]\n",
    "\n",
    "    def __add__(self, other):\n",
    "        'concatenate two queues using the addition operator'\n",
    "        if not isinstance(other, Queue):\n",
    "            raise TypeError('unsupported operand type for +: Queue and {}'.format(type(other).__name__))\n",
    "\n",
    "        new_queue = Queue(self.max_size)\n",
    "        new_queue.q = self.q + other.q\n",
    "        if len(new_queue.q) > new_queue.max_size:\n",
    "            raise FullQueueError('resulting queue exceeds maximum size')\n",
    "        return new_queue\n",
    "\n",
    "# Example usage:\n",
    "q1 = Queue()\n",
    "q2 = Queue()\n",
    "\n",
    "q1.enqueue(1)\n",
    "q1.enqueue(2)\n",
    "q2.enqueue(3)\n",
    "q2.enqueue(4)\n",
    "\n",
    "try:\n",
    "    q1.enqueue(5)  # Raises FullQueueError\n",
    "except FullQueueError as e:\n",
    "    print(e)\n",
    "\n",
    "try:\n",
    "    q1.dequeueMultiple(3)  # Raises InsufficientElementsInQueueError\n",
    "except InsufficientElementsInQueueError as e:\n",
    "    print(e)\n",
    "\n",
    "q3 = q1 + q2\n",
    "print(q3.q)  # Output: [1, 2, 3, 4]\n"
   ]
  }
 ],
 "metadata": {
  "kernelspec": {
   "display_name": "Python 3",
   "language": "python",
   "name": "python3"
  },
  "language_info": {
   "codemirror_mode": {
    "name": "ipython",
    "version": 3
   },
   "file_extension": ".py",
   "mimetype": "text/x-python",
   "name": "python",
   "nbconvert_exporter": "python",
   "pygments_lexer": "ipython3",
   "version": "3.9.1"
  }
 },
 "nbformat": 4,
 "nbformat_minor": 5
}
